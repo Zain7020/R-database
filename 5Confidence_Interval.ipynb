{
  "nbformat": 4,
  "nbformat_minor": 0,
  "metadata": {
    "colab": {
      "provenance": []
    },
    "kernelspec": {
      "name": "python3",
      "display_name": "Python 3"
    },
    "language_info": {
      "name": "python"
    }
  },
  "cells": [
    {
      "cell_type": "code",
      "execution_count": null,
      "metadata": {
        "id": "3VS2ZbEhR2eN"
      },
      "outputs": [],
      "source": [
        "from scipy import stats\n",
        "import pandas as pd\n",
        "import numpy as np"
      ]
    },
    {
      "cell_type": "code",
      "source": [
        " ls # display files in current working folder"
      ],
      "metadata": {
        "id": "iWH5SfRsSroH"
      },
      "execution_count": null,
      "outputs": []
    },
    {
      "cell_type": "code",
      "source": [
        "import os\n",
        "os.getcwd()"
      ],
      "metadata": {
        "id": "8cFCUfotSrk2"
      },
      "execution_count": null,
      "outputs": []
    },
    {
      "cell_type": "code",
      "source": [
        "glaxo_df=pd.read_csv('/content/glaxo_df.csv')\n",
        "glaxo_df"
      ],
      "metadata": {
        "id": "yOiSMXbJSriW"
      },
      "execution_count": null,
      "outputs": []
    },
    {
      "cell_type": "markdown",
      "source": [
        "### Confidence interval using Normal Distribution"
      ],
      "metadata": {
        "id": "qoZ1a-uvXER6"
      }
    },
    {
      "cell_type": "code",
      "source": [
        "# Find comfidence interval first using normal distribution\n",
        "# here stats.norm.interval() will give diectly conf.interval for 95% confidence. No need to do other calculations\n",
        "glaxo_df_ci = stats.norm.interval(0.95,\n",
        "loc = glaxo_df.gain.mean(),\n",
        "scale = glaxo_df.gain.std())\n",
        "print('Mean at 95% confidence intetval is:', np.round(glaxo_df_ci,4))\n",
        "#For Glaxo max profit or loss can be expected in between -2.5% to 2.6% in a particular day."
      ],
      "metadata": {
        "id": "ohquABfFSrad"
      },
      "execution_count": null,
      "outputs": []
    },
    {
      "cell_type": "code",
      "source": [
        "glaxo_df_ci"
      ],
      "metadata": {
        "id": "bN3CJ-MRSrSE"
      },
      "execution_count": null,
      "outputs": []
    },
    {
      "cell_type": "code",
      "source": [
        "beml_df=pd.read_csv('/content/beml_df.csv')\n",
        "beml_df"
      ],
      "metadata": {
        "id": "UA3FqBKWYhQN"
      },
      "execution_count": null,
      "outputs": []
    },
    {
      "cell_type": "code",
      "source": [
        "beml_df_ci = stats.norm.interval(0.95,\n",
        "loc = beml_df.gain.mean(),\n",
        "scale = beml_df.gain.std())\n",
        "print('Mean at 95% confidence intetval is:', np.round(beml_df_ci,4))\n",
        "#For BEML max profit or loss can be expected in between -5.1% to 5.2% in a particular day."
      ],
      "metadata": {
        "id": "CLnhldF6YhHt"
      },
      "execution_count": null,
      "outputs": []
    },
    {
      "cell_type": "code",
      "source": [
        "beml_df_ci"
      ],
      "metadata": {
        "id": "D1E4LJutZCk5"
      },
      "execution_count": null,
      "outputs": []
    },
    {
      "cell_type": "code",
      "source": [
        "glaxo_df"
      ],
      "metadata": {
        "id": "9t9i5LCZZCPr"
      },
      "execution_count": null,
      "outputs": []
    },
    {
      "cell_type": "markdown",
      "source": [
        "### Confidence Interval using T-Distribution"
      ],
      "metadata": {
        "id": "QCI5N_38ZhEt"
      }
    },
    {
      "cell_type": "code",
      "source": [
        "glaxo_df_ci=stats.t.interval(0.95,1737,\n",
        "                             loc = glaxo_df.gain.mean(),\n",
        "                             scale = glaxo_df.gain.std())\n",
        "glaxo_df_ci #0.95 - confidence, 1737 - degree of freedom , loc - meam, scale - std deviation"
      ],
      "metadata": {
        "colab": {
          "base_uri": "https://localhost:8080/"
        },
        "id": "pa8e7NtLZcuB",
        "outputId": "25a2ad6a-48b5-4874-c622-fdcdd054c3f9"
      },
      "execution_count": null,
      "outputs": [
        {
          "output_type": "execute_result",
          "data": {
            "text/plain": [
              "(-0.025818392673534002, 0.02659047483871859)"
            ]
          },
          "metadata": {},
          "execution_count": 22
        }
      ]
    },
    {
      "cell_type": "code",
      "source": [
        "beml_df_ci=stats.t.interval(0.95,1737,\n",
        "                             loc = beml_df.gain.mean(),\n",
        "                             scale = beml_df.gain.std())\n",
        "beml_df_ci #0.95 - confidence, 1737 - degree of freedom(n-1), loc - meam, scale - std deviation"
      ],
      "metadata": {
        "colab": {
          "base_uri": "https://localhost:8080/"
        },
        "id": "S4sc8OxrZcl5",
        "outputId": "8b5eb2eb-ed8b-456e-9eeb-2473f30f9bf7"
      },
      "execution_count": null,
      "outputs": [
        {
          "output_type": "execute_result",
          "data": {
            "text/plain": [
              "(-0.05156885177136772, 0.05211034792948219)"
            ]
          },
          "metadata": {},
          "execution_count": 23
        }
      ]
    },
    {
      "cell_type": "code",
      "source": [
        "beml_df.gain.mean()"
      ],
      "metadata": {
        "colab": {
          "base_uri": "https://localhost:8080/"
        },
        "id": "dRt1SCvgZca5",
        "outputId": "489ba489-d779-4c3a-d39b-1432235d37db"
      },
      "execution_count": null,
      "outputs": [
        {
          "output_type": "execute_result",
          "data": {
            "text/plain": [
              "0.00027074807905723414"
            ]
          },
          "metadata": {},
          "execution_count": 24
        }
      ]
    },
    {
      "cell_type": "code",
      "source": [
        "#Find Confidence interval using t-distribution - Credit Card example\n",
        "stats.t.ppf(0.975,139) # t value for 95% confidence\n",
        "# stats.t.ppf(0.95,139) # t value for 90% confidence"
      ],
      "metadata": {
        "colab": {
          "base_uri": "https://localhost:8080/"
        },
        "id": "hgJRga3VawlB",
        "outputId": "929446e5-2608-4aab-87eb-93112abe2ccc"
      },
      "execution_count": null,
      "outputs": [
        {
          "output_type": "execute_result",
          "data": {
            "text/plain": [
              "1.977177724476122"
            ]
          },
          "metadata": {},
          "execution_count": 25
        }
      ]
    }
  ]
}