{
  "nbformat": 4,
  "nbformat_minor": 0,
  "metadata": {
    "colab": {
      "provenance": []
    },
    "kernelspec": {
      "name": "python3",
      "display_name": "Python 3"
    },
    "language_info": {
      "name": "python"
    }
  },
  "cells": [
    {
      "cell_type": "code",
      "execution_count": 1,
      "metadata": {
        "id": "EMW_ZY3TSbIf"
      },
      "outputs": [],
      "source": [
        "#import the libraries\n",
        "import pandas as pd\n",
        "import numpy as np\n",
        "from scipy import stats"
      ]
    },
    {
      "cell_type": "markdown",
      "source": [
        "### Super Market example"
      ],
      "metadata": {
        "id": "ODdEiHJITEIg"
      }
    },
    {
      "cell_type": "code",
      "source": [
        "1-(stats.t.cdf(2.2,df=79))"
      ],
      "metadata": {
        "colab": {
          "base_uri": "https://localhost:8080/"
        },
        "id": "9_s0icMJTALv",
        "outputId": "ed5d7d3f-41f6-4c0a-a1f0-0b478823825e"
      },
      "execution_count": 2,
      "outputs": [
        {
          "output_type": "execute_result",
          "data": {
            "text/plain": [
              "0.015364507770762481"
            ]
          },
          "metadata": {},
          "execution_count": 2
        }
      ]
    },
    {
      "cell_type": "markdown",
      "source": [
        "### Call Center example"
      ],
      "metadata": {
        "id": "0NyFrD6eTR9c"
      }
    },
    {
      "cell_type": "code",
      "source": [
        "# Call Center example\n",
        "# first way to calculate\n",
        "#r=1-stats.t.cdf(1.4,49)\n",
        "#p=r*2\n",
        "# second way to calculate\n",
        "#r=stats.t.cdf(-1.4,49)\n",
        "#p=r*2\n",
        "# third way to calculate\n",
        "r=2*stats.t.cdf(-1.4,49)\n",
        "#print(r)\n",
        "#print(round(r,4))\n",
        "print(\"Round Value=\",round(r,4))\n",
        "#print(p)"
      ],
      "metadata": {
        "colab": {
          "base_uri": "https://localhost:8080/"
        },
        "id": "njWgUNrCTAHE",
        "outputId": "f8100d5a-7a43-4616-bc3a-bde1c74b03c4"
      },
      "execution_count": 16,
      "outputs": [
        {
          "output_type": "stream",
          "name": "stdout",
          "text": [
            "Round Value= 0.1678\n"
          ]
        }
      ]
    },
    {
      "cell_type": "code",
      "source": [
        "import numpy as np\n",
        "from scipy import stats\n",
        "# to calculate t - value\n",
        "t=(4.6-4)/(3/np.sqrt(50)) # t value for x bar = 4.6, mu=4, s=3, n=50\n",
        "t\n"
      ],
      "metadata": {
        "colab": {
          "base_uri": "https://localhost:8080/"
        },
        "id": "Cksm2cVdTAEw",
        "outputId": "ebe1050b-5067-4a90-fd59-1669e0805a94"
      },
      "execution_count": 5,
      "outputs": [
        {
          "output_type": "execute_result",
          "data": {
            "text/plain": [
              "1.4142135623730943"
            ]
          },
          "metadata": {},
          "execution_count": 5
        }
      ]
    },
    {
      "cell_type": "code",
      "source": [
        "p=2*stats.t.cdf(-1.41,49)\n",
        "p"
      ],
      "metadata": {
        "id": "KMK8FHjJTACC"
      },
      "execution_count": null,
      "outputs": []
    },
    {
      "cell_type": "markdown",
      "source": [
        "### One tail test"
      ],
      "metadata": {
        "id": "QzEWTbyeXqoW"
      }
    },
    {
      "cell_type": "code",
      "source": [
        "# Ice cream factory example\n",
        "import pandas as pd\n",
        "from scipy import stats\n",
        "\n",
        "data=pd.Series([0.593,0.142,0.329,0.691,0.231,0.793,0.519,0.392,0.418])"
      ],
      "metadata": {
        "id": "7aoJ9lwCXgct"
      },
      "execution_count": 21,
      "outputs": []
    },
    {
      "cell_type": "code",
      "source": [
        "data"
      ],
      "metadata": {
        "id": "ng1GZTK5Xgam"
      },
      "execution_count": null,
      "outputs": []
    },
    {
      "cell_type": "code",
      "source": [
        "stats.ttest_1samp(data,0.3) # population mean = 0.3, this method always give you 2 tail p-value\n",
        "#t-value=2.2050588385131595 and p-value=0.5853032968489765 here, p = p1+p2\n",
        "# index of t-value is 0 and p-value is 1"
      ],
      "metadata": {
        "colab": {
          "base_uri": "https://localhost:8080/"
        },
        "id": "A0dZscA2XgXR",
        "outputId": "24e8d1a2-941f-4dba-b515-584c91e4c0c7"
      },
      "execution_count": 24,
      "outputs": [
        {
          "output_type": "execute_result",
          "data": {
            "text/plain": [
              "TtestResult(statistic=2.2050588385131595, pvalue=0.05853032968489765, df=8)"
            ]
          },
          "metadata": {},
          "execution_count": 24
        }
      ]
    },
    {
      "cell_type": "code",
      "source": [
        "p=stats.ttest_1samp(data,0.3)[1] # mu=0.3, index of p-value is 1, so [1] is given\n",
        "# pvalue =0.05853032968489765\n",
        "p"
      ],
      "metadata": {
        "colab": {
          "base_uri": "https://localhost:8080/"
        },
        "id": "aMwMSvigZlWM",
        "outputId": "86378172-50b0-4cd9-93ec-4c9c6622ddc9"
      },
      "execution_count": 26,
      "outputs": [
        {
          "output_type": "execute_result",
          "data": {
            "text/plain": [
              "0.05853032968489765"
            ]
          },
          "metadata": {},
          "execution_count": 26
        }
      ]
    },
    {
      "cell_type": "code",
      "source": [
        "# As this is one tail test p value so divide byh 2 to get final p-value\n",
        "p_value=p/2\n",
        "p_value\n",
        "# Null Hypo. is Mu<=0.3, Alter.Hypo. is Mu>0.3\n",
        "# Alfa = 0.05, p-value we got is 0.029 so p<alfa. so reject Null Hypo.\n",
        "# So go for Alt. Hypo.\n",
        "# interpret it: As mean Mu >0.3 factory is causing problem."
      ],
      "metadata": {
        "id": "HKEb5pV6XgU_"
      },
      "execution_count": null,
      "outputs": []
    },
    {
      "cell_type": "markdown",
      "source": [
        "### Two Tail test"
      ],
      "metadata": {
        "id": "hpoDEIkBblJW"
      }
    },
    {
      "cell_type": "code",
      "source": [
        "# 2-Sample 2-tail test\n",
        "#comparing drugs-control group and treatment group.\n",
        "Control=pd.Series([91,87,99,77,88,91])\n",
        "Treat =pd.Series([101,110,103,93,99,104])"
      ],
      "metadata": {
        "id": "aUTkQsLXXgSh"
      },
      "execution_count": 28,
      "outputs": []
    },
    {
      "cell_type": "code",
      "source": [
        "stats.ttest_ind(Control,Treat) #two tail independent\n",
        "# p=p1+p2. We are conducting 2 sample 2 tail test, so no need to divide p by 2.\n",
        "# p=0.006, alfa=0.05, p<alfa so reject null hypo. so accept alt. hypo.\n",
        "# interpretation: 2 responses are not equal so drug is working"
      ],
      "metadata": {
        "colab": {
          "base_uri": "https://localhost:8080/"
        },
        "id": "AZzp3BCmXgPe",
        "outputId": "31796973-e1e8-4ec3-d482-129e05973bc4"
      },
      "execution_count": 29,
      "outputs": [
        {
          "output_type": "execute_result",
          "data": {
            "text/plain": [
              "TtestResult(statistic=-3.4456126735364876, pvalue=0.006272124350809803, df=10.0)"
            ]
          },
          "metadata": {},
          "execution_count": 29
        }
      ]
    },
    {
      "cell_type": "markdown",
      "source": [
        "### 2 Proportion test"
      ],
      "metadata": {
        "id": "CMRc2ROMdAlo"
      }
    },
    {
      "cell_type": "code",
      "source": [
        "import numpy as np"
      ],
      "metadata": {
        "id": "45XUTHqFXgL3"
      },
      "execution_count": 30,
      "outputs": []
    },
    {
      "cell_type": "code",
      "source": [
        "# Data: Placement Data example\n",
        "\n",
        "n1 = 247\n",
        "p1 = .37 # proportion is 0.37\n",
        "\n",
        "n2 = 308\n",
        "p2=.39 # proportion is 0.39"
      ],
      "metadata": {
        "id": "QVbOJbQTXgGm"
      },
      "execution_count": 31,
      "outputs": []
    },
    {
      "cell_type": "code",
      "source": [
        "population1 =np.random.binomial(1, p1, n1) # 1 -placed i.e. probability of success, 0-not placed\n",
        "population2 =np.random.binomial(1, p2, n2) # as its random function every time you execute, you will get different answers"
      ],
      "metadata": {
        "id": "kXT0dglvXgA2"
      },
      "execution_count": 32,
      "outputs": []
    },
    {
      "cell_type": "code",
      "source": [
        "population1 # 247 student's data. 0-not placed"
      ],
      "metadata": {
        "id": "5AcKyWVYXf5n"
      },
      "execution_count": null,
      "outputs": []
    },
    {
      "cell_type": "code",
      "source": [
        "population2"
      ],
      "metadata": {
        "id": "EBVJmVNIfoCL"
      },
      "execution_count": null,
      "outputs": []
    },
    {
      "cell_type": "code",
      "source": [
        "import statsmodels.api as sm\n",
        "sm.stats.ttest_ind(population1, population2) #2 sample, 2 tail test. Middle is the p-value\n",
        "# p>0.05 so accept null hypo.\n",
        "# interpretation: student are almost equally got placed in 2 states\n",
        "# i.e. no significnat difference in providing placement opportunities to students in 2"
      ],
      "metadata": {
        "colab": {
          "base_uri": "https://localhost:8080/"
        },
        "id": "BvYl7MgGfoAt",
        "outputId": "7e2fc376-7fe6-438b-be2b-2c30ab2d8a67"
      },
      "execution_count": 35,
      "outputs": [
        {
          "output_type": "execute_result",
          "data": {
            "text/plain": [
              "(-1.6503265662593831, 0.09944396432009064, 553.0)"
            ]
          },
          "metadata": {},
          "execution_count": 35
        }
      ]
    },
    {
      "cell_type": "code",
      "source": [
        "import statsmodels.api as sm\n",
        "\n",
        "a=0.05 # alpha\n",
        "\n",
        "population1 =np.random.binomial(1, p1, n1)\n",
        "population2 =np.random.binomial(1, p2, n2)\n",
        "\n",
        "p=sm.stats.ttest_ind(population1,population2)[1]\n",
        "print(p)\n",
        "print(round(p,3))\n",
        "if p>a:\n",
        "  print(f'Accept null hypothesis.\\n--------------------')\n",
        "else:\n",
        "  print(f'Failed to reject null hypothesis. i.e. Accept alternative hypothesis.\\n---------------')\n",
        "\n"
      ],
      "metadata": {
        "id": "onOimV7-fn99"
      },
      "execution_count": null,
      "outputs": []
    },
    {
      "cell_type": "code",
      "source": [],
      "metadata": {
        "id": "GKmtbaw6fn76"
      },
      "execution_count": null,
      "outputs": []
    }
  ]
}