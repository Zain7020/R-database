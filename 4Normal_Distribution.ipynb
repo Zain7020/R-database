{
  "nbformat": 4,
  "nbformat_minor": 0,
  "metadata": {
    "colab": {
      "provenance": []
    },
    "kernelspec": {
      "name": "python3",
      "display_name": "Python 3"
    },
    "language_info": {
      "name": "python"
    }
  },
  "cells": [
    {
      "cell_type": "code",
      "execution_count": 1,
      "metadata": {
        "id": "yfTjaXA3hDGu"
      },
      "outputs": [],
      "source": [
        "from scipy import stats"
      ]
    },
    {
      "cell_type": "code",
      "source": [
        "import pandas as pd\n",
        "import numpy as np\n",
        "\n",
        "import warnings\n",
        "warnings.filterwarnings('ignore')"
      ],
      "metadata": {
        "id": "Lo7T8righQI0"
      },
      "execution_count": 3,
      "outputs": []
    },
    {
      "cell_type": "code",
      "source": [
        "beml_df = pd.read_csv(\"/content/BEML.csv\")\n",
        "beml_df.head()"
      ],
      "metadata": {
        "id": "dpwROxYLhQFd"
      },
      "execution_count": null,
      "outputs": []
    },
    {
      "cell_type": "code",
      "source": [
        "glaxo_df=pd.read_csv(\"/content/GLAXO.csv\")\n",
        "glaxo_df.head()"
      ],
      "metadata": {
        "id": "9rFsG2u5hQD4"
      },
      "execution_count": null,
      "outputs": []
    },
    {
      "cell_type": "code",
      "source": [
        "beml_df = beml_df[['Date','Close']]\n",
        "glaxo_df=glaxo_df[['Date','Close']]"
      ],
      "metadata": {
        "id": "2lOCyDZGhQCT"
      },
      "execution_count": 13,
      "outputs": []
    },
    {
      "cell_type": "code",
      "source": [
        "beml_df"
      ],
      "metadata": {
        "id": "HrZqFIZWhP_h"
      },
      "execution_count": null,
      "outputs": []
    },
    {
      "cell_type": "code",
      "source": [
        "glaxo_df"
      ],
      "metadata": {
        "id": "tI0SX12PhP6t"
      },
      "execution_count": null,
      "outputs": []
    },
    {
      "cell_type": "code",
      "source": [
        "beml_df.dtypes"
      ],
      "metadata": {
        "id": "9k5QU5PThP0L"
      },
      "execution_count": null,
      "outputs": []
    },
    {
      "cell_type": "code",
      "source": [
        "glaxo_df.dtypes"
      ],
      "metadata": {
        "id": "MMIuZwrfhPrh"
      },
      "execution_count": null,
      "outputs": []
    },
    {
      "cell_type": "code",
      "source": [
        "# '''The Dataframes have a date column, so we can\n",
        "# create a DatetimeIndex index from this column Date. It will ensure that the rows are  in the\n",
        "# ascending order.'''\n",
        "glaxo_df = glaxo_df.set_index(pd.DatetimeIndex(glaxo_df['Date']))\n",
        "beml_df = beml_df.set_index(pd.DatetimeIndex(beml_df['Date']))"
      ],
      "metadata": {
        "id": "dVn4MVBxj8yC"
      },
      "execution_count": 19,
      "outputs": []
    },
    {
      "cell_type": "code",
      "source": [
        "beml_df.head() # now date column is acting as an index"
      ],
      "metadata": {
        "id": "6030hlV7j8u-"
      },
      "execution_count": null,
      "outputs": []
    },
    {
      "cell_type": "code",
      "source": [
        "glaxo_df.head() # now date column is acting as an index"
      ],
      "metadata": {
        "id": "arrtKa_1j8sY"
      },
      "execution_count": null,
      "outputs": []
    },
    {
      "cell_type": "code",
      "source": [
        "import matplotlib.pyplot as plt\n",
        "import seaborn as sn\n",
        "plt.plot(glaxo_df.Close)\n",
        "plt.xlabel('Time')\n",
        "plt.ylabel('Close Price')"
      ],
      "metadata": {
        "id": "4YnVcIJDj8p7"
      },
      "execution_count": null,
      "outputs": []
    },
    {
      "cell_type": "code",
      "source": [
        "plt.plot(beml_df.Close)\n",
        "plt.xlabel('Time')\n",
        "plt.ylabel('Close Price')"
      ],
      "metadata": {
        "id": "vtG47SLJj8m8"
      },
      "execution_count": null,
      "outputs": []
    },
    {
      "cell_type": "code",
      "source": [
        "# Gain is for each day. We are assuming that gain is coming from normal distribution.\n",
        "glaxo_df['gain'] = glaxo_df.Close.pct_change(periods=1)\n",
        "beml_df['gain'] = beml_df.Close.pct_change(periods=1)"
      ],
      "metadata": {
        "id": "fexJUmYVj8cL"
      },
      "execution_count": 27,
      "outputs": []
    },
    {
      "cell_type": "code",
      "source": [
        "glaxo_df"
      ],
      "metadata": {
        "id": "mhwADH-ej8Z0"
      },
      "execution_count": null,
      "outputs": []
    },
    {
      "cell_type": "code",
      "source": [
        "beml_df"
      ],
      "metadata": {
        "id": "KaUWv4P_oTjC"
      },
      "execution_count": null,
      "outputs": []
    },
    {
      "cell_type": "code",
      "source": [
        "# drop first row since it is a NaN\n",
        "glaxo_df = glaxo_df.dropna()\n",
        "beml_df = beml_df.dropna()"
      ],
      "metadata": {
        "id": "vb6rU3XMobSS"
      },
      "execution_count": 31,
      "outputs": []
    },
    {
      "cell_type": "code",
      "source": [
        "glaxo_df"
      ],
      "metadata": {
        "id": "vBqP2aqOo_G5"
      },
      "execution_count": null,
      "outputs": []
    },
    {
      "cell_type": "code",
      "source": [
        "beml_df"
      ],
      "metadata": {
        "id": "QzHmfhXcpQte"
      },
      "execution_count": null,
      "outputs": []
    },
    {
      "cell_type": "code",
      "source": [
        "# Glaxo: plot the gains. Over the years gain is not changing much.\n",
        "# In 2014 gain was highest i.e. 20% and the highest loss upto 7%. Sometimes positive soemtimes negative\n",
        "plt.figure(figsize=(8,5))\n",
        "plt.plot(glaxo_df.gain)\n",
        "plt.xlabel('Time')\n",
        "plt.ylabel('gain')"
      ],
      "metadata": {
        "id": "4KQzIQZLpQqH"
      },
      "execution_count": null,
      "outputs": []
    },
    {
      "cell_type": "code",
      "source": [
        "# BEML: from 2010 to 2012 gain was on lower side and after that gain increased upto 2015\n",
        "plt.figure(figsize=(8,5))\n",
        "plt.plot(beml_df.gain)\n",
        "plt.xlabel('Time')\n",
        "plt.ylabel('gain')"
      ],
      "metadata": {
        "id": "RcRa55eApQnt"
      },
      "execution_count": null,
      "outputs": []
    },
    {
      "cell_type": "code",
      "source": [
        "plt.figure(figsize=(10,5))\n",
        "plt.suptitle('Distribution',fontsize=15)\n",
        "plt.subplot(1,2,1)\n",
        "sn.distplot(glaxo_df.gain,label='Glaxo')\n",
        "plt.xlabel('gain')\n",
        "plt.ylabel('Density')\n",
        "plt.legend()\n",
        "plt.subplot(1,2,2)\n",
        "sn.distplot(beml_df.gain,label='BEML')\n",
        "plt.xlabel('gain')\n",
        "plt.ylabel('Density')\n",
        "plt.legend()\n",
        "\n",
        "#bell shaped normal distribution\n"
      ],
      "metadata": {
        "id": "dOTvlJyZpQky"
      },
      "execution_count": null,
      "outputs": []
    },
    {
      "cell_type": "code",
      "source": [
        "plt.figure(figsize=(10,5))\n",
        "sn.distplot(glaxo_df.gain,label='Glaxo')\n",
        "sn.distplot(beml_df.gain,label='BEML')\n",
        "plt.xlabel('gain')\n",
        "plt.ylabel('Density')\n",
        "plt.legend()\n",
        "\n",
        "\n",
        "\n",
        "# for BEML there is more variance (high risk or volatality) than GLAXO\n"
      ],
      "metadata": {
        "id": "lCscIB4FpQhL"
      },
      "execution_count": null,
      "outputs": []
    },
    {
      "cell_type": "code",
      "source": [
        "print('Mean:', round(glaxo_df.gain.mean(),4))\n",
        "print('Standard Deviation:', round(glaxo_df.gain.std(),4))"
      ],
      "metadata": {
        "id": "OTa0_Nn3tmao"
      },
      "execution_count": null,
      "outputs": []
    },
    {
      "cell_type": "code",
      "source": [
        "print('Mean:', round(beml_df.gain.mean(),4))\n",
        "print('Standard Deviation:', round(beml_df.gain.std(),4))\n",
        "# BEML has high standard Devaition"
      ],
      "metadata": {
        "colab": {
          "base_uri": "https://localhost:8080/"
        },
        "id": "SdYI1mCsqga5",
        "outputId": "a5f84c23-2f4a-489c-d341-00ee9263c450"
      },
      "execution_count": 48,
      "outputs": [
        {
          "output_type": "stream",
          "name": "stdout",
          "text": [
            "Mean: 0.0003\n",
            "Standard Deviation: 0.0264\n"
          ]
        }
      ]
    },
    {
      "cell_type": "code",
      "source": [
        "from scipy import stats\n",
        "# import scipy\n",
        "# Probability making 2% loss or higher loss in Glaxo - left of 0 i.e. -0.02\n",
        "stats.norm.cdf(-0.02,0.0004,0.0134) #norm.cdf(0.02,mean,std)\n",
        "# loc=glaxo_df.gain.mean(),\n",
        "#scale=glaxo_df.gain.std()) # there are 6% of chances having 2% or higher loss"
      ],
      "metadata": {
        "colab": {
          "base_uri": "https://localhost:8080/"
        },
        "id": "FfYxHFv6qgVy",
        "outputId": "26df8cca-7b75-4c67-e70a-9f86f4a3d430"
      },
      "execution_count": 46,
      "outputs": [
        {
          "output_type": "execute_result",
          "data": {
            "text/plain": [
              "0.06395593743937553"
            ]
          },
          "metadata": {},
          "execution_count": 46
        }
      ]
    },
    {
      "cell_type": "code",
      "source": [
        "stats.norm.cdf(-0.02,0.0003,0.264)"
      ],
      "metadata": {
        "colab": {
          "base_uri": "https://localhost:8080/"
        },
        "id": "Vr-nG4QHtixw",
        "outputId": "b367cb5a-251d-4b95-8c0b-08d0ac0e4962"
      },
      "execution_count": 49,
      "outputs": [
        {
          "output_type": "execute_result",
          "data": {
            "text/plain": [
              "0.4693539594684164"
            ]
          },
          "metadata": {},
          "execution_count": 49
        }
      ]
    },
    {
      "cell_type": "markdown",
      "source": [
        "###norm.cdf() and norm.ppf() function difference#"
      ],
      "metadata": {
        "id": "RQbvbwNavgb4"
      }
    },
    {
      "cell_type": "code",
      "source": [
        "# To underestand difference between cdf() and ppf() execute below code.\n",
        "#(Cumulative Distribution Function): norm.cdf(normal distribution value,loc,scale): calculate probability for given normal dsitribution value.\n",
        "#(Percent point function): norm.ppf(probablity,loc,scale): Calculates normal distribution value for a given probablity.\n",
        "stats.norm.ppf(0.06395593743937553,0.0004,0.0134) # output of above command,loc,scale"
      ],
      "metadata": {
        "colab": {
          "base_uri": "https://localhost:8080/"
        },
        "id": "vxBenEBDvsVY",
        "outputId": "1b307fd7-eb0a-4487-e922-26bfd2a0ea70"
      },
      "execution_count": 52,
      "outputs": [
        {
          "output_type": "execute_result",
          "data": {
            "text/plain": [
              "-0.02"
            ]
          },
          "metadata": {},
          "execution_count": 52
        }
      ]
    },
    {
      "cell_type": "code",
      "source": [
        "#Probablity of making 2% gain or higher gain in Glaxo - to the right of 0.02\n",
        "1 - stats.norm.cdf(0.02,0.0004,0.0134) # 7% chance of having at least 2% or higher gain, Glaxo seems safer than BEML"
      ],
      "metadata": {
        "colab": {
          "base_uri": "https://localhost:8080/"
        },
        "id": "NlZZUK1YvxtQ",
        "outputId": "0df9258f-0b11-45cb-cf52-f1cacb60a52b"
      },
      "execution_count": 51,
      "outputs": [
        {
          "output_type": "execute_result",
          "data": {
            "text/plain": [
              "0.07177658173190637"
            ]
          },
          "metadata": {},
          "execution_count": 51
        }
      ]
    },
    {
      "cell_type": "markdown",
      "source": [
        " Inclass Exercise"
      ],
      "metadata": {
        "id": "QAHOW3ENyh_Y"
      }
    },
    {
      "cell_type": "markdown",
      "source": [
        "## Compute 2% loss or gain for BMEL\n",
        "Chance of profit or loss are high with BEML than GLAXO"
      ],
      "metadata": {
        "id": "o2m6nbuqy1Jx"
      }
    },
    {
      "cell_type": "code",
      "source": [
        "stats.norm.cdf(-0.02,\n",
        "loc=beml_df.gain.mean(),\n",
        "scale=beml_df.gain.std())"
      ],
      "metadata": {
        "colab": {
          "base_uri": "https://localhost:8080/"
        },
        "id": "lNa3ApNMvxbg",
        "outputId": "5d9eca8a-64a5-4e77-c1ec-33e67a553e30"
      },
      "execution_count": 54,
      "outputs": [
        {
          "output_type": "execute_result",
          "data": {
            "text/plain": [
              "0.22155987503755292"
            ]
          },
          "metadata": {},
          "execution_count": 54
        }
      ]
    }
  ]
}